{
 "cells": [
  {
   "cell_type": "markdown",
   "metadata": {},
   "source": [
    "FOR CLAHE IMAGE PREPROCESSING"
   ]
  },
  {
   "cell_type": "code",
   "execution_count": 7,
   "metadata": {},
   "outputs": [],
   "source": [
    "# import libraries\n",
    "import keras\n",
    "import os\n",
    "os.environ[\"CUDA_VISIBLE_DEVICES\"]=\"1\"\n",
    "from keras import optimizers\n",
    "from numpy import array \n",
    "import matplotlib.pyplot as plt\n",
    "import numpy as np\n",
    "import argparse\n",
    "import imutils\n",
    "from os import listdir,makedirs\n",
    "from os.path import isfile,join\n",
    "import glob\n",
    "import cv2\n",
    "from skimage import feature \n",
    "from keras import backend as K\n",
    "from keras import losses\n",
    "from keras import metrics\n",
    "import tensorflow as tf\n"
   ]
  },
  {
   "cell_type": "code",
   "execution_count": 8,
   "metadata": {},
   "outputs": [],
   "source": [
    "\n",
    "path_1 = r'D:\\Opencv for Canny Edge detection_CLAHE_LBP\\DATASET\\CLAHE\\raw\\viral'\n",
    "imgs = os.listdir(path_1)\n",
    "paths_list = [path_1]\n",
    "\n",
    "dstpath = r'D:\\Opencv for Canny Edge detection_CLAHE_LBP\\DATASET\\CLAHE\\clahe\\viral'\n",
    "\n",
    "for imgnm in imgs:\n",
    "    images = plt.imread(os.path.join(path_1,imgnm))\n",
    "    \n",
    "    gray_image = cv2.cvtColor(images, cv2.COLOR_BGR2GRAY)\n",
    "    clahe = cv2.createCLAHE(9, (10, 10))\n",
    "    normalized = clahe.apply(gray_image)\n",
    "    \n",
    "for path in paths_list:\n",
    "    \n",
    "    files = [f for f in listdir(path) if isfile(join(path,f))]\n",
    "for image in files:\n",
    "    try:   \n",
    "        dstPath = join(dstpath, image)\n",
    "        cv2.imwrite(dstPath, normalized)\n",
    "    \n",
    "    except:\n",
    "        print (\"{} is not converted\".format(image))\n",
    "    "
   ]
  },
  {
   "cell_type": "code",
   "execution_count": null,
   "metadata": {},
   "outputs": [],
   "source": []
  }
 ],
 "metadata": {
  "kernelspec": {
   "display_name": "Python 3",
   "language": "python",
   "name": "python3"
  },
  "language_info": {
   "codemirror_mode": {
    "name": "ipython",
    "version": 3
   },
   "file_extension": ".py",
   "mimetype": "text/x-python",
   "name": "python",
   "nbconvert_exporter": "python",
   "pygments_lexer": "ipython3",
   "version": "3.7.4"
  }
 },
 "nbformat": 4,
 "nbformat_minor": 4
}
