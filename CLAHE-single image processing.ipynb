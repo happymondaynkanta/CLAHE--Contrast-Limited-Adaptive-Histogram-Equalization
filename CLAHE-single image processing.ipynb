{
 "cells": [
  {
   "cell_type": "code",
   "execution_count": 3,
   "metadata": {},
   "outputs": [
    {
     "data": {
      "text/plain": [
       "True"
      ]
     },
     "execution_count": 3,
     "metadata": {},
     "output_type": "execute_result"
    }
   ],
   "source": [
    "import cv2\n",
    "import numpy as np\n",
    "\n",
    "src = cv2.imread(\"65_1.jpg\")\n",
    "image = cv2.cvtColor(src, cv2.COLOR_BGR2GRAY)\n",
    "#clahe = cv2.createCLAHE(0, (3, 3))\n",
    "clahe = cv2.createCLAHE(9, (10, 10))\n",
    "#normalized = clahe.apply(gray)\n",
    "normalized = clahe.apply(image)\n",
    "cv2.imshow('output', normalized)\n",
    "cv2.waitKey(0)\n",
    "cv2.destroyAllWindows()\n",
    "filename = \"65_1_CLAHE\"  + \".jpg\"\n",
    "\n",
    "cv2.imwrite(filename, normalized)"
   ]
  },
  {
   "cell_type": "code",
   "execution_count": null,
   "metadata": {},
   "outputs": [],
   "source": []
  }
 ],
 "metadata": {
  "kernelspec": {
   "display_name": "Python 3",
   "language": "python",
   "name": "python3"
  },
  "language_info": {
   "codemirror_mode": {
    "name": "ipython",
    "version": 3
   },
   "file_extension": ".py",
   "mimetype": "text/x-python",
   "name": "python",
   "nbconvert_exporter": "python",
   "pygments_lexer": "ipython3",
   "version": "3.7.7"
  }
 },
 "nbformat": 4,
 "nbformat_minor": 4
}
